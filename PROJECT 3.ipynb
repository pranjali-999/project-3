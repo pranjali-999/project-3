{
 "cells": [
  {
   "cell_type": "code",
   "execution_count": 1,
   "id": "55df299d-f910-4491-b6ed-6bc69ce715e5",
   "metadata": {
    "tags": []
   },
   "outputs": [
    {
     "name": "stdout",
     "output_type": "stream",
     "text": [
      "guess the riddle\n",
      "4. Give me food and I will live, Give me water, and I will die\n"
     ]
    },
    {
     "name": "stdin",
     "output_type": "stream",
     "text": [
      "Dimag ki batti jali to answer batao FIRE\n"
     ]
    },
    {
     "name": "stdout",
     "output_type": "stream",
     "text": [
      "dimag ki batti jal gayi\n"
     ]
    }
   ],
   "source": [
    "print(\"guess the riddle\")\n",
    "import random\n",
    "riddles = [\"1. Squeeze it and it cries tears as red as it's flesh. It's heart is made of stone\",\n",
    "           \"2. Remove the outside, cook the inside, eat the outside, throw away the inside\",\n",
    "           \"3. A word I know, Six letters it contains. Subtract just one, and twelve is what remains\",\n",
    "           \"4. Give me food and I will live, Give me water, and I will die\"]\n",
    "a = random.choice(riddles)\n",
    "riddle = \"\"\n",
    "for i in a:\n",
    "    riddle += i\n",
    "print(riddle)\n",
    "user = input(\"Dimag ki batti jali to answer batao\")\n",
    "\n",
    "if a == \"1. Squeeze it and it cries tears as red as it's flesh. It's heart is made of stone\":\n",
    "    if user.lower() == \"cherry\":\n",
    "        print(\"dimag ki batti jal gayi\")\n",
    "    else:\n",
    "        print(\"dimag ki batti bhujh gyi\")\n",
    "\n",
    "if a == \"2. Remove the outside, cook the inside, eat the outside, throw away the inside\":\n",
    "    if user.lower() == \"corn\":\n",
    "        print(\"dimag ki batti jal gayi\")\n",
    "    else:\n",
    "        print(\"dimag ki batti bhujh gyi\")\n",
    "\n",
    "if a == \"3. A word I know, Six letters it contains. Subtract just one, and twelve is what remains\":\n",
    "    if user.lower() == \"dozen\":\n",
    "        print(\"dimag ki batti jal gayi\")\n",
    "    else:\n",
    "        print(\"dimag ki batti bhujh gyi\")\n",
    "\n",
    "if a == \"4. Give me food and I will live, Give me water, and I will die\":\n",
    "    if user.lower() == \"fire\":\n",
    "        print(\"dimag ki batti jal gayi\")\n",
    "    else:\n",
    "        print(\"dimag ki batti bhujh gyi\")\n"
   ]
  },
  {
   "cell_type": "code",
   "execution_count": null,
   "id": "ee795436-970d-4203-b8b5-94d5f64570c8",
   "metadata": {},
   "outputs": [],
   "source": []
  }
 ],
 "metadata": {
  "kernelspec": {
   "display_name": "Python 3 (ipykernel)",
   "language": "python",
   "name": "python3"
  },
  "language_info": {
   "codemirror_mode": {
    "name": "ipython",
    "version": 3
   },
   "file_extension": ".py",
   "mimetype": "text/x-python",
   "name": "python",
   "nbconvert_exporter": "python",
   "pygments_lexer": "ipython3",
   "version": "3.11.2"
  }
 },
 "nbformat": 4,
 "nbformat_minor": 5
}
